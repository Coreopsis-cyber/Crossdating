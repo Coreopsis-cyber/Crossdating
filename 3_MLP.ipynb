{
 "cells": [
  {
   "cell_type": "code",
   "execution_count": 644,
   "id": "fc9ef073",
   "metadata": {},
   "outputs": [],
   "source": [
    "%matplotlib inline\n",
    "\n",
    "import pandas as pd \n",
    "import matplotlib.pyplot as plt\n",
    "import seaborn as sns\n",
    "import numpy as np \n",
    "#Importing packages needed for the model\n",
    "from sklearn.neural_network import MLPClassifier\n",
    "from sklearn.model_selection import GridSearchCV\n",
    "from sklearn.preprocessing import StandardScaler\n",
    "from sklearn.model_selection import train_test_split\n",
    "from sklearn import metrics\n",
    "from sklearn.model_selection import KFold\n",
    "from sklearn.model_selection import cross_val_score\n",
    "from sklearn.metrics import accuracy_score\n",
    "from sklearn.metrics import confusion_matrix, ConfusionMatrixDisplay\n",
    "from sklearn.metrics import precision_recall_fscore_support\n",
    "from collections import Counter\n",
    "from sklearn.utils import resample\n",
    "from sklearn.metrics import make_scorer, recall_score, accuracy_score, precision_score"
   ]
  },
  {
   "cell_type": "markdown",
   "id": "68d4f178",
   "metadata": {},
   "source": [
    "Master chronology created using colums AA to AT (or AA + 19 colums)."
   ]
  },
  {
   "cell_type": "code",
   "execution_count": 645,
   "id": "df1afb76",
   "metadata": {},
   "outputs": [],
   "source": [
    "try:\n",
    "    df1 = pd.read_csv('./Training_Data/training_tree_1.csv', index_col=0)\n",
    "    df2 = pd.read_csv('./Training_Data/training_tree_2.csv', index_col=0)\n",
    "    df3 = pd.read_csv('./Training_Data/training_tree_3.csv', index_col=0)\n",
    "    df4 = pd.read_csv('./Training_Data/training_tree_4.csv', index_col=0)\n",
    "    df5 = pd.read_csv('./Training_Data/training_tree_5.csv', index_col=0)\n",
    "    df6 = pd.read_csv('./Training_Data/training_tree_6.csv', index_col=0)\n",
    "    df7 = pd.read_csv('./Training_Data/training_tree_7.csv', index_col=0)\n",
    "    df8 = pd.read_csv('./Training_Data/training_tree_8.csv', index_col=0)\n",
    "    df9 = pd.read_csv('./Training_Data/training_tree_9.csv', index_col=0)\n",
    "    df10 = pd.read_csv('./Training_Data/training_tree_10.csv', index_col=0)\n",
    "    df11 = pd.read_csv('./Training_Data/training_tree_11.csv', index_col=0)\n",
    "    df12 = pd.read_csv('./Training_Data/training_tree_12.csv', index_col=0)\n",
    "    df13 = pd.read_csv('./Training_Data/training_tree_13.csv', index_col=0)\n",
    "    df14 = pd.read_csv('./Training_Data/training_tree_14.csv', index_col=0)\n",
    "    df15 = pd.read_csv('./Training_Data/training_tree_15.csv', index_col=0)\n",
    "    df16 = pd.read_csv('./Training_Data/training_tree_16.csv', index_col=0)\n",
    "    df17 = pd.read_csv('./Training_Data/training_tree_17.csv', index_col=0)\n",
    "except FileNotFoundError:\n",
    "    print(\"File not found. Please check the file is in the current working directory and has been spelt correctly\")\n",
    "except pd.errors.EmptyDataError:\n",
    "    print(\"No data.\")\n",
    "except pd.errors.ParserError:\n",
    "    print(\"Parse error.\")\n",
    "except Exception:\n",
    "    print(\"An error occured.\")"
   ]
  },
  {
   "cell_type": "code",
   "execution_count": 646,
   "id": "d40018a3",
   "metadata": {},
   "outputs": [
    {
     "data": {
      "text/html": [
       "<div>\n",
       "<style scoped>\n",
       "    .dataframe tbody tr th:only-of-type {\n",
       "        vertical-align: middle;\n",
       "    }\n",
       "\n",
       "    .dataframe tbody tr th {\n",
       "        vertical-align: top;\n",
       "    }\n",
       "\n",
       "    .dataframe thead th {\n",
       "        text-align: right;\n",
       "    }\n",
       "</style>\n",
       "<table border=\"1\" class=\"dataframe\">\n",
       "  <thead>\n",
       "    <tr style=\"text-align: right;\">\n",
       "      <th></th>\n",
       "      <th>master_chronology</th>\n",
       "      <th>SLC09A</th>\n",
       "    </tr>\n",
       "    <tr>\n",
       "      <th>year</th>\n",
       "      <th></th>\n",
       "      <th></th>\n",
       "    </tr>\n",
       "  </thead>\n",
       "  <tbody>\n",
       "    <tr>\n",
       "      <th>1991</th>\n",
       "      <td>1.446042</td>\n",
       "      <td>2.460997</td>\n",
       "    </tr>\n",
       "    <tr>\n",
       "      <th>1992</th>\n",
       "      <td>1.569043</td>\n",
       "      <td>1.169365</td>\n",
       "    </tr>\n",
       "    <tr>\n",
       "      <th>1993</th>\n",
       "      <td>1.389070</td>\n",
       "      <td>1.346719</td>\n",
       "    </tr>\n",
       "    <tr>\n",
       "      <th>1994</th>\n",
       "      <td>-0.278576</td>\n",
       "      <td>-0.509613</td>\n",
       "    </tr>\n",
       "    <tr>\n",
       "      <th>1995</th>\n",
       "      <td>1.419715</td>\n",
       "      <td>1.718732</td>\n",
       "    </tr>\n",
       "  </tbody>\n",
       "</table>\n",
       "</div>"
      ],
      "text/plain": [
       "      master_chronology    SLC09A\n",
       "year                             \n",
       "1991           1.446042  2.460997\n",
       "1992           1.569043  1.169365\n",
       "1993           1.389070  1.346719\n",
       "1994          -0.278576 -0.509613\n",
       "1995           1.419715  1.718732"
      ]
     },
     "execution_count": 646,
     "metadata": {},
     "output_type": "execute_result"
    }
   ],
   "source": [
    "df16.tail()"
   ]
  },
  {
   "cell_type": "code",
   "execution_count": 647,
   "id": "2879ea7c",
   "metadata": {},
   "outputs": [
    {
     "data": {
      "text/html": [
       "<div>\n",
       "<style scoped>\n",
       "    .dataframe tbody tr th:only-of-type {\n",
       "        vertical-align: middle;\n",
       "    }\n",
       "\n",
       "    .dataframe tbody tr th {\n",
       "        vertical-align: top;\n",
       "    }\n",
       "\n",
       "    .dataframe thead th {\n",
       "        text-align: right;\n",
       "    }\n",
       "</style>\n",
       "<table border=\"1\" class=\"dataframe\">\n",
       "  <thead>\n",
       "    <tr style=\"text-align: right;\">\n",
       "      <th></th>\n",
       "      <th>master_chronology</th>\n",
       "      <th>SLC01A</th>\n",
       "    </tr>\n",
       "    <tr>\n",
       "      <th>year</th>\n",
       "      <th></th>\n",
       "      <th></th>\n",
       "    </tr>\n",
       "  </thead>\n",
       "  <tbody>\n",
       "    <tr>\n",
       "      <th>1991</th>\n",
       "      <td>1.446042</td>\n",
       "      <td>1.048327</td>\n",
       "    </tr>\n",
       "    <tr>\n",
       "      <th>1992</th>\n",
       "      <td>1.569043</td>\n",
       "      <td>1.571682</td>\n",
       "    </tr>\n",
       "    <tr>\n",
       "      <th>1993</th>\n",
       "      <td>1.389070</td>\n",
       "      <td>0.850798</td>\n",
       "    </tr>\n",
       "    <tr>\n",
       "      <th>1994</th>\n",
       "      <td>-0.278576</td>\n",
       "      <td>-0.356532</td>\n",
       "    </tr>\n",
       "    <tr>\n",
       "      <th>1995</th>\n",
       "      <td>1.419715</td>\n",
       "      <td>1.723990</td>\n",
       "    </tr>\n",
       "  </tbody>\n",
       "</table>\n",
       "</div>"
      ],
      "text/plain": [
       "      master_chronology    SLC01A\n",
       "year                             \n",
       "1991           1.446042  1.048327\n",
       "1992           1.569043  1.571682\n",
       "1993           1.389070  0.850798\n",
       "1994          -0.278576 -0.356532\n",
       "1995           1.419715  1.723990"
      ]
     },
     "execution_count": 647,
     "metadata": {},
     "output_type": "execute_result"
    }
   ],
   "source": [
    "df15.tail()"
   ]
  },
  {
   "cell_type": "markdown",
   "id": "826f81e1",
   "metadata": {},
   "source": [
    "# Functions to make the binary classifiers for training"
   ]
  },
  {
   "cell_type": "code",
   "execution_count": 648,
   "id": "ff5c4dd6",
   "metadata": {},
   "outputs": [
    {
     "name": "stdout",
     "output_type": "stream",
     "text": [
      "186\n"
     ]
    }
   ],
   "source": [
    "samples = []\n",
    "\n",
    "for col in df16.columns:\n",
    "        col_list = df16[col].tolist()\n",
    "        cleanedList = [x for x in col_list if x == x]\n",
    "        samples.append(cleanedList)\n",
    "        \n",
    "print(len(samples[1]))"
   ]
  },
  {
   "cell_type": "code",
   "execution_count": 805,
   "id": "32f4eeb7",
   "metadata": {},
   "outputs": [],
   "source": [
    "def making_more_testing_data(df):\n",
    "    samples = []\n",
    "    samples1 = []\n",
    "    answer = []\n",
    "    segments = {}\n",
    "    i = 0\n",
    "    for col in df.columns:\n",
    "        col_list = df[col].tolist()\n",
    "        cleanedList = [x for x in col_list if x == x]\n",
    "        samples.append(cleanedList)\n",
    "\n",
    "    size = 100\n",
    "    step = 50\n",
    "    length = len(samples)\n",
    "    segments[0] = ([samples[0][i: i + size] for i in range(0, len(samples[0]), step)])\n",
    "\n",
    "    short0 = []\n",
    "    for j in range(len(segments[0])):\n",
    "        if len(segments[0][j]) != 100:\n",
    "            short0.append(segments[0][j])\n",
    "        else:\n",
    "            continue\n",
    "\n",
    "    size = 10\n",
    "    step = 1\n",
    "    length = len(samples)\n",
    "    segments[1] = ([samples[1][i: i + size] for i in range(0, len(samples[1]), step)])\n",
    "\n",
    "    short1 = []\n",
    "\n",
    "    for j in range(len(segments[1])):\n",
    "        if len(segments[1][j]) != 10:\n",
    "\n",
    "            short1.append(segments[1][j])\n",
    "\n",
    "        else:\n",
    "            continue\n",
    "\n",
    "    segments0 = [x for x in segments[0] if x not in short0]\n",
    "    segments1 = [x for x in segments[1] if x not in short1]\n",
    "\n",
    "    segments[0] = segments0\n",
    "    segments[1] = segments1\n",
    "\n",
    "    assert len(segments[0][-1]) == 100\n",
    "    assert len(segments[1][-1]) == 10\n",
    "    segments0 = segments[0]\n",
    "    segments1 = segments[1]\n",
    "    pairs = [(x + y) for x in segments0 for y in segments1]\n",
    "\n",
    "    while i < (df.shape[0] - 100):\n",
    "        new = df.iloc[i:i + 100]\n",
    "        for col in new.columns:\n",
    "            col_list = new[col].tolist()\n",
    "            cleanedList = [x for x in col_list if x == x]\n",
    "            samples1.append(cleanedList)\n",
    "        i += 50\n",
    "\n",
    "    assert len(samples1[-2]) == 100\n",
    "\n",
    "    i = 1\n",
    "    while i < len(samples1):\n",
    "\n",
    "        if len(samples1[i]) < 10:\n",
    "            for j in range(len(segments[1])):\n",
    "                answer.append(0)\n",
    "        elif len(samples1[i]) == 10:\n",
    "            if find_element_in_list(samples1[i], segments[1]) != None:\n",
    "                index = find_element_in_list(samples1[i], segments[1])\n",
    "                for j in range(len(segments[1]) - index - 1):\n",
    "                    answer.append(0)\n",
    "                answer.append(1)\n",
    "                for j in range(len(segments[1]) - index):\n",
    "                    answer.append(0)\n",
    "            elif find_element_in_list(samples[i], segments[1]) == None:\n",
    "                for j in range(len(segments[1])):\n",
    "                    answer.append(0)\n",
    "        elif len(samples1[i]) > 10:\n",
    "            size = 10\n",
    "            step = 1\n",
    "            length = len(samples1[i])\n",
    "            seg = {}\n",
    "            seg[0] = ([samples1[i][j: j + size] for j in range(0, len(samples1[i]), step)])\n",
    "            short2 = []\n",
    "            for j in range(len(seg[0])):\n",
    "                if len(seg[0][j]) != 10:\n",
    "\n",
    "                    short2.append(seg[0][j])\n",
    "                else:\n",
    "                    continue\n",
    "            final = [x for x in seg[0] if x not in short2]\n",
    "\n",
    "            for j in range(len(segments[1])):\n",
    "                if find_element_in_list(segments[1][j], final) != None:\n",
    "\n",
    "                    answer.append(1)\n",
    "                else:\n",
    "\n",
    "                    answer.append(0)\n",
    "        i += 2\n",
    "\n",
    "    return pairs, answer"
   ]
  },
  {
   "cell_type": "code",
   "execution_count": 785,
   "id": "e5417b18",
   "metadata": {},
   "outputs": [],
   "source": [
    "def correct_pairs(df):\n",
    "    pair = []\n",
    "    col_list = []\n",
    "    correct = []\n",
    "    samples = []\n",
    "    no_repeat_correct = []\n",
    "    i= 0\n",
    "    for col in df.columns:\n",
    "        col_list = df[col].tolist()\n",
    "        cleanedList = [x for x in col_list if x == x]\n",
    "        samples.append(cleanedList)\n",
    "    for i in range(np.where(df.iloc[:,1 ] == samples[1][0])[0][0],(np.where(df.iloc[:,1 ] == samples[1][-1])[0][0]-8)):\n",
    "        new = df.iloc[i:i+10]\n",
    "        \n",
    "        for col in new.columns:\n",
    "            col_list = new[col].tolist()\n",
    "            \n",
    "            pair.append(col_list)\n",
    "        correct.append(pair[0] + pair[1])\n",
    "        pair = []\n",
    "    no_repeat_correct = [i for n, i in enumerate(correct) if i not in correct[:n]]\n",
    "   \n",
    "    return no_repeat_correct\n"
   ]
  },
  {
   "cell_type": "code",
   "execution_count": 786,
   "id": "f42eea6a",
   "metadata": {},
   "outputs": [],
   "source": [
    "def find_element_in_list(element, list_element):\n",
    "    try:\n",
    "        index_element = list_element.index(element)\n",
    "        return index_element\n",
    "    except ValueError:\n",
    "        return None"
   ]
  },
  {
   "cell_type": "code",
   "execution_count": 787,
   "id": "9cf0f5f0",
   "metadata": {},
   "outputs": [],
   "source": [
    "def create_pairs(dataframe, section):\n",
    "    samples = []\n",
    "    segments = {}\n",
    "    segment = {}\n",
    "    size = 10\n",
    "    step = 1\n",
    "    i= 0\n",
    "    for df in dataframe:\n",
    "        col_list = df.iloc[:, 1].tolist()\n",
    "        cleanedList = [x for x in col_list if x == x]\n",
    "        samples.append(cleanedList)\n",
    "        #print(df)\n",
    "    \n",
    "    \n",
    "    for j in range(len(section)):\n",
    "        key = int(j)\n",
    "        segments[key] = ([section[j][i : i + size] for i in range(0, len(section[j]), step)])\n",
    "    \n",
    "    for k in range(len(samples)):\n",
    "        key = int(len(section) + k)\n",
    "        segments[key] = ([samples[k][i : i + size] for i in range(0, len(samples[k]), step)])\n",
    "       \n",
    "    #print(segments[0])\n",
    "    #print(segments[1])\n",
    "\n",
    "        \n",
    "    short = []\n",
    "    \n",
    "    for i in range(len(segments)):\n",
    "        for j in range(len(segments[i])):\n",
    "            if len(segments[i][j]) != 10:\n",
    "                short.append(segments[i][j])\n",
    "            else:\n",
    "                continue\n",
    "                \n",
    "    print(len(segments))\n",
    "    #print(short)\n",
    "    master = []\n",
    "    for i in range(len(section)):\n",
    "        #print(segments[i])\n",
    "        master.append([x for x in segments[i] if x not in short])\n",
    "        #print(master[i])\n",
    "    #print(master)\n",
    "    sample = []\n",
    "    for i in range(len(samples)):\n",
    "        sample.append([x for x in segments[i+len(section)] if x not in short])\n",
    "\n",
    "    #print(segments0)\n",
    "    \n",
    "    segment[0] = [item for sublist in master for item in sublist]\n",
    "    segment[1] = [item for sublist in sample for item in sublist]\n",
    "    print(len(segment[0]))\n",
    "    print(len(segment[1]))\n",
    "    segments[0][-1]\n",
    "    segments0 = segment[0]\n",
    "    segments1 = segment[1]\n",
    "    pairs =  [(x + y) for x in segments0 for y in segments1]\n",
    "    assert len(pairs[-1]) == 20\n",
    "    #print(pairs[0])\n",
    "    print(len(pairs))\n",
    "    \n",
    "    return pairs\n"
   ]
  },
  {
   "cell_type": "code",
   "execution_count": 788,
   "id": "d3172b71",
   "metadata": {},
   "outputs": [
    {
     "name": "stdout",
     "output_type": "stream",
     "text": [
      "15\n",
      "29\n",
      "1365\n",
      "2470\n",
      "3371550\n"
     ]
    }
   ],
   "source": [
    "print(len(train_input_no_dup))\n",
    "train_input_pairs = create_pairs([df1,df2,df3,df4,df5,df6,df7,df8,df9,df10,df11,df12,df13,df14], train_input_no_dup)"
   ]
  },
  {
   "cell_type": "code",
   "execution_count": 789,
   "id": "57b95609",
   "metadata": {},
   "outputs": [
    {
     "name": "stdout",
     "output_type": "stream",
     "text": [
      "29\n",
      "1365\n",
      "2470\n",
      "3371550\n"
     ]
    }
   ],
   "source": [
    "train_input_pairs = create_pairs([df1,df2,df3,df4,df5,df6,df7,df8,df9,df10,df11,df12,df13,df14], train_input_no_dup)"
   ]
  },
  {
   "cell_type": "code",
   "execution_count": 790,
   "id": "a09819d7",
   "metadata": {},
   "outputs": [],
   "source": [
    "def create_overlap_binary_class(pairs, correct_pairs):\n",
    "    \n",
    "    binary = []\n",
    "    first_pairs = []\n",
    "    for j in range(len(correct_pairs)): \n",
    "        first_pairs.append(correct_pairs[j][:5])\n",
    "    correct_pairs = [item for sublist in correct_pairs for item in sublist]\n",
    "    i=0\n",
    "    while i < len(pairs):\n",
    "        \n",
    "        if pairs[i] in correct_pairs and pairs[i] in first_pairs:\n",
    "            for t in range(len(first_pairs)):\n",
    "                if pairs[i] in first_pairs[t]: \n",
    "                    for j in range(0,first_pairs[t].index(pairs[i])): \n",
    "                        binary.pop()\n",
    "                    for h in range(0,first_pairs[t].index(pairs[i])):\n",
    "                        binary.append(1)\n",
    "                    for f in range(6):\n",
    "                        binary.append(1)\n",
    "                    i+=6\n",
    "        elif pairs[i] in correct_pairs:\n",
    "            for z in range(0,5):\n",
    "                binary.pop()\n",
    "            for f in range(0,11):\n",
    "                binary.append(1)\n",
    "            i+=6  \n",
    "        else: \n",
    "            binary.append(0)\n",
    "            i+=1\n",
    "    return binary     "
   ]
  },
  {
   "cell_type": "code",
   "execution_count": 791,
   "id": "739ded91",
   "metadata": {},
   "outputs": [],
   "source": [
    "def create_overlap_binary_test_class(pairs, correct_pairs):\n",
    "    binary = []\n",
    "    found_pairs = []\n",
    "    i=0\n",
    "    while i < len(pairs):\n",
    "        if pairs[i] in correct_pairs:\n",
    "            if correct_pairs.index(pairs[i]) < 5: \n",
    "                for j in range(0,correct_pairs.index(pairs[i])): \n",
    "                    binary.pop()\n",
    "                for h in range(0,correct_pairs.index(pairs[i])):\n",
    "                    binary.append(1) \n",
    "                for f in range(6):\n",
    "                    binary.append(1)\n",
    "                    \n",
    "                i+=6\n",
    "            else:\n",
    "                for z in range(0,5):\n",
    "                    binary.pop() \n",
    "                if i < len(pairs)-6:\n",
    "                    for f in range(0,11):\n",
    "                        binary.append(1)\n",
    "                else:\n",
    "                    for f in range(5+len(pairs)-i):\n",
    "                        binary.append(1)   \n",
    "                i+=6  \n",
    "        else: \n",
    "            binary.append(0)\n",
    "            \n",
    "            i+=1\n",
    "    return binary     "
   ]
  },
  {
   "cell_type": "code",
   "execution_count": 792,
   "id": "0202ff94",
   "metadata": {},
   "outputs": [],
   "source": [
    "def create_binary_class(pairs, correct_pairs):\n",
    "    binary = []\n",
    "    for i in range(len(pairs)):\n",
    "        if pairs[i] in correct_pairs:\n",
    "            binary.append(1)\n",
    "        else: \n",
    "            binary.append(0)\n",
    "    return binary     \n"
   ]
  },
  {
   "cell_type": "code",
   "execution_count": 793,
   "id": "a06f5044",
   "metadata": {},
   "outputs": [],
   "source": [
    "def create_binary_training_class(pairs, correct_pairs):\n",
    "    binary = []\n",
    "    correct_pairs = [item for sublist in correct_pairs for item in sublist]\n",
    "    for i in range(len(pairs)):\n",
    "        if pairs[i] in correct_pairs:\n",
    "            binary.append(1)\n",
    "        else: \n",
    "            binary.append(0)\n",
    "    return binary     "
   ]
  },
  {
   "cell_type": "markdown",
   "id": "e25e0e46",
   "metadata": {},
   "source": [
    "# Making the testing data"
   ]
  },
  {
   "cell_type": "code",
   "execution_count": 794,
   "id": "4b22745a",
   "metadata": {},
   "outputs": [],
   "source": [
    "segment = {}"
   ]
  },
  {
   "cell_type": "code",
   "execution_count": 806,
   "id": "8ba07174",
   "metadata": {},
   "outputs": [
    {
     "name": "stdout",
     "output_type": "stream",
     "text": [
      "1050\n",
      "408\n",
      "1062\n"
     ]
    }
   ],
   "source": [
    "first_match1, first_output1 = making_more_testing_data(df1)\n",
    "first_match2, first_output2 = making_more_testing_data(df2)\n",
    "first_match3, first_output3 = making_more_testing_data(df3)\n",
    "first_match4, first_output4 = making_more_testing_data(df4)\n",
    "first_match5, first_output5 = making_more_testing_data(df5)\n",
    "first_match6, first_output6 = making_more_testing_data(df6)\n",
    "first_match7, first_output7 = making_more_testing_data(df7)\n",
    "first_match8, first_output8= making_more_testing_data(df8)\n",
    "first_match9, first_output9 = making_more_testing_data(df9)\n",
    "first_match10, first_output10 = making_more_testing_data(df10)\n",
    "first_match11, first_output11 = making_more_testing_data(df11)\n",
    "first_match12, first_output12 = making_more_testing_data(df12)\n",
    "first_match13, first_output13 = making_more_testing_data(df13)\n",
    "first_match14, first_output14 = making_more_testing_data(df14)\n",
    "first_match15, first_output15 = making_more_testing_data(df15)\n",
    "first_match16, firzst_output16 = making_more_testing_data(df16)\n",
    "first_match17, first_output17 = making_more_testing_data(df17)\n",
    "\n",
    "print(len(first_match15))\n",
    "print(len(first_match10))\n",
    "print(len(first_match16))"
   ]
  },
  {
   "cell_type": "code",
   "execution_count": 796,
   "id": "fd1d8756",
   "metadata": {},
   "outputs": [
    {
     "name": "stdout",
     "output_type": "stream",
     "text": [
      "184\n",
      "1050\n"
     ]
    }
   ],
   "source": [
    "first_match15, first_output15 = making_more_testing_data(df15)\n",
    "print(len(first_match15))"
   ]
  },
  {
   "cell_type": "code",
   "execution_count": 797,
   "id": "264689ca",
   "metadata": {},
   "outputs": [
    {
     "name": "stdout",
     "output_type": "stream",
     "text": [
      "186\n",
      "1062\n"
     ]
    }
   ],
   "source": [
    "first_match16, first_output16 = making_more_testing_data(df16)\n",
    "print(len(first_match16))"
   ]
  },
  {
   "cell_type": "code",
   "execution_count": 798,
   "id": "37d6174a",
   "metadata": {},
   "outputs": [
    {
     "name": "stdout",
     "output_type": "stream",
     "text": [
      "14\n",
      "2470\n"
     ]
    }
   ],
   "source": [
    "correct_pair1 = correct_pairs(df1)\n",
    "correct_pair2 = correct_pairs(df2) \n",
    "correct_pair3 = correct_pairs(df3) \n",
    "correct_pair4 = correct_pairs(df4) \n",
    "correct_pair5 = correct_pairs(df5) \n",
    "correct_pair6 = correct_pairs(df6) \n",
    "correct_pair7 = correct_pairs(df7) \n",
    "correct_pair8 = correct_pairs(df8) \n",
    "correct_pair9 = correct_pairs(df9) \n",
    "correct_pair10 = correct_pairs(df10) \n",
    "correct_pair11 = correct_pairs(df11) \n",
    "correct_pair12 = correct_pairs(df12) \n",
    "correct_pair13 = correct_pairs(df13) \n",
    "correct_pair14 = correct_pairs(df14) \n",
    "correct_pair15 = correct_pairs(df15)\n",
    "correct_pair16 = correct_pairs(df16)\n",
    "correct_pair17 = correct_pairs(df17)\n",
    "correct_pair_training = [correct_pair1, correct_pair2, correct_pair3, correct_pair4, correct_pair5, correct_pair6, correct_pair7, correct_pair8, correct_pair9, correct_pair10, correct_pair11, correct_pair12, correct_pair13, correct_pair14]\n",
    "print(len(correct_pair_training))\n",
    "total = 0\n",
    "for i in range(len(correct_pair_training)):\n",
    "    total += len(correct_pair_training[i])\n",
    "print(total)"
   ]
  },
  {
   "cell_type": "code",
   "execution_count": 666,
   "id": "2d99f4e3",
   "metadata": {},
   "outputs": [],
   "source": [
    "total_first_matches = first_match1 + first_match2 + first_match3 + first_match4 + first_match5 + first_match6 + first_match7 + first_match8 + first_match9 + first_match10 + first_match11 + first_match12 + first_match13 + first_match14\n",
    "total_first_ouputs = first_output1 + first_output2 + first_output3 + first_output4 + first_output5 + first_output6 + first_output7 + first_output8 + first_output9 + first_output10 + first_output11 + first_output12 + first_output13 + first_output14 \n",
    "x = total_first_matches\n",
    "y = total_first_ouputs\n",
    "strat = pd.Series(y)"
   ]
  },
  {
   "cell_type": "code",
   "execution_count": 667,
   "id": "606ed28d",
   "metadata": {},
   "outputs": [
    {
     "name": "stdout",
     "output_type": "stream",
     "text": [
      "Training Data: \n",
      "8892\n",
      "----------------------------------------------\n",
      "Testing Data: \n",
      "5928\n"
     ]
    }
   ],
   "source": [
    "x_train,x_test,y_train,y_test = train_test_split(x,y,test_size=0.4, stratify= strat )\n",
    "print('Training Data: ')\n",
    "print(len(x_train))\n",
    "print('----------------------------------------------')\n",
    "print('Testing Data: ')\n",
    "print(len(x_test))"
   ]
  },
  {
   "cell_type": "code",
   "execution_count": 668,
   "id": "d0fabf29",
   "metadata": {},
   "outputs": [],
   "source": [
    "mlp = MLPClassifier()"
   ]
  },
  {
   "cell_type": "code",
   "execution_count": 669,
   "id": "f71b0f24",
   "metadata": {},
   "outputs": [
    {
     "data": {
      "text/plain": [
       "GridSearchCV(cv=10, estimator=MLPClassifier(), n_jobs=-1,\n",
       "             param_grid={'activation': ['relu'], 'alpha': [0.001],\n",
       "                         'early_stopping': [False],\n",
       "                         'hidden_layer_sizes': [(300, 100)],\n",
       "                         'learning_rate': ['constant'], 'max_iter': [7000],\n",
       "                         'solver': ['adam']})"
      ]
     },
     "execution_count": 669,
     "metadata": {},
     "output_type": "execute_result"
    }
   ],
   "source": [
    "parameter_space = {\n",
    "    'hidden_layer_sizes': [(300,100,)],\n",
    "    'activation': ['relu'],\n",
    "    'solver': [ 'adam'],\n",
    "    'alpha': [0.001],\n",
    "    'learning_rate': ['constant'],\n",
    "    'max_iter' : [7000],\n",
    "    'early_stopping' : [False]\n",
    "}\n",
    "clf = GridSearchCV(mlp, parameter_space, n_jobs=-1, cv=10)\n",
    "clf.fit(x_train, y_train) # X is train samples and y is the corresponding labels"
   ]
  },
  {
   "cell_type": "code",
   "execution_count": 670,
   "id": "d045782c",
   "metadata": {},
   "outputs": [
    {
     "name": "stdout",
     "output_type": "stream",
     "text": [
      "Best parameters found:\n",
      " {'activation': 'relu', 'alpha': 0.001, 'early_stopping': False, 'hidden_layer_sizes': (300, 100), 'learning_rate': 'constant', 'max_iter': 7000, 'solver': 'adam'}\n"
     ]
    }
   ],
   "source": [
    "print('Best parameters found:\\n', clf.best_params_)"
   ]
  },
  {
   "cell_type": "code",
   "execution_count": 671,
   "id": "b1cc1e79",
   "metadata": {},
   "outputs": [
    {
     "name": "stdout",
     "output_type": "stream",
     "text": [
      "0.819 (+/-0.018) for {'activation': 'relu', 'alpha': 0.001, 'early_stopping': False, 'hidden_layer_sizes': (300, 100), 'learning_rate': 'constant', 'max_iter': 7000, 'solver': 'adam'}\n"
     ]
    }
   ],
   "source": [
    "means = clf.cv_results_['mean_test_score']\n",
    "stds = clf.cv_results_['std_test_score']\n",
    "for mean, std, params in zip(means, stds, clf.cv_results_['params']):\n",
    "    print(\"%0.3f (+/-%0.03f) for %r\" % (mean, std * 2, params))"
   ]
  },
  {
   "cell_type": "code",
   "execution_count": 672,
   "id": "873a36d1",
   "metadata": {},
   "outputs": [
    {
     "name": "stdout",
     "output_type": "stream",
     "text": [
      "Results on the test set:\n",
      "              precision    recall  f1-score   support\n",
      "\n",
      "           0       0.87      0.90      0.89      4472\n",
      "           1       0.66      0.60      0.63      1456\n",
      "\n",
      "    accuracy                           0.83      5928\n",
      "   macro avg       0.77      0.75      0.76      5928\n",
      "weighted avg       0.82      0.83      0.82      5928\n",
      "\n"
     ]
    }
   ],
   "source": [
    "y_true, y_pred = y_test , clf.predict(x_test)\n",
    "from sklearn.metrics import classification_report\n",
    "print('Results on the test set:')\n",
    "print(classification_report(y_true, y_pred))"
   ]
  },
  {
   "cell_type": "code",
   "execution_count": 673,
   "id": "857ac03e",
   "metadata": {},
   "outputs": [
    {
     "data": {
      "text/plain": [
       "(0.7666609664257988, 0.7509823025811397, 0.7581378137386763, None)"
      ]
     },
     "execution_count": 673,
     "metadata": {},
     "output_type": "execute_result"
    }
   ],
   "source": [
    "precision_recall_fscore_support(y_true, y_pred, average='macro')"
   ]
  },
  {
   "cell_type": "code",
   "execution_count": 674,
   "id": "35f2ad96",
   "metadata": {},
   "outputs": [
    {
     "data": {
      "image/png": "[encoded data removed]",
      "text/plain": [
       "<Figure size 432x288 with 2 Axes>"
      ]
     },
     "metadata": {
      "needs_background": "light"
     },
     "output_type": "display_data"
    }
   ],
   "source": [
    "cm = confusion_matrix(y_true, y_pred)\n",
    "disp = ConfusionMatrixDisplay(confusion_matrix=cm,display_labels=[0,1], )\n",
    "disp.plot(cmap=\"YlGnBu\")\n",
    "\n",
    "plt.show()"
   ]
  },
  {
   "cell_type": "code",
   "execution_count": 675,
   "id": "8cab3257",
   "metadata": {},
   "outputs": [
    {
     "data": {
      "image/png": "[encoded data removed]",
      "text/plain": [
       "<Figure size 432x288 with 2 Axes>"
      ]
     },
     "metadata": {
      "needs_background": "light"
     },
     "output_type": "display_data"
    }
   ],
   "source": [
    "outputs= clf.predict(first_match15)\n",
    "cm = confusion_matrix(first_output15, clf.predict(first_match15))\n",
    "disp = ConfusionMatrixDisplay(confusion_matrix=cm,display_labels=[0,1], )\n",
    "disp.plot(cmap=\"YlGnBu\")\n",
    "plt.show()"
   ]
  },
  {
   "cell_type": "code",
   "execution_count": 676,
   "id": "83c65d7c",
   "metadata": {},
   "outputs": [
    {
     "data": {
      "image/png": "[encoded data removed]",
      "text/plain": [
       "<Figure size 432x288 with 2 Axes>"
      ]
     },
     "metadata": {
      "needs_background": "light"
     },
     "output_type": "display_data"
    }
   ],
   "source": [
    "second_outputs= clf.predict(first_match16)\n",
    "cm = confusion_matrix(first_output16, clf.predict(first_match16))\n",
    "disp = ConfusionMatrixDisplay(confusion_matrix=cm,display_labels=[0,1], )\n",
    "disp.plot(cmap=\"YlGnBu\")\n",
    "plt.show()"
   ]
  },
  {
   "cell_type": "markdown",
   "id": "0ad22404",
   "metadata": {},
   "source": [
    "# Model 1 complete"
   ]
  },
  {
   "cell_type": "code",
   "execution_count": 677,
   "id": "5166f88a",
   "metadata": {},
   "outputs": [],
   "source": [
    "model_1_output = pd.DataFrame()\n",
    "model_1_output['Input'] = first_match15\n",
    "model_1_output['Output'] = outputs"
   ]
  },
  {
   "cell_type": "code",
   "execution_count": 678,
   "id": "ff030e6f",
   "metadata": {},
   "outputs": [],
   "source": [
    "second_model_1_output = pd.DataFrame()\n",
    "second_model_1_output['Input'] = first_match16\n",
    "second_model_1_output['Output'] = second_outputs"
   ]
  },
  {
   "cell_type": "code",
   "execution_count": 679,
   "id": "b88d68f4",
   "metadata": {},
   "outputs": [],
   "source": [
    "model_1_training_output = pd.DataFrame()\n",
    "model_1_training_output['Input'] = x_test \n",
    "model_1_training_output['Output'] = y_pred"
   ]
  },
  {
   "cell_type": "code",
   "execution_count": 680,
   "id": "9485a863",
   "metadata": {},
   "outputs": [],
   "source": [
    "true_model_output = model_1_output.loc[model_1_output['Output'] == 1]\n",
    "second_true_model_output = second_model_1_output.loc[second_model_1_output['Output'] == 1]\n",
    "true_training_model_output = model_1_training_output.loc[model_1_training_output['Output'] == 1]"
   ]
  },
  {
   "cell_type": "code",
   "execution_count": 681,
   "id": "2a82d260",
   "metadata": {},
   "outputs": [
    {
     "data": {
      "text/plain": [
       "(252, 2)"
      ]
     },
     "execution_count": 681,
     "metadata": {},
     "output_type": "execute_result"
    }
   ],
   "source": [
    "true_model_output.shape"
   ]
  },
  {
   "cell_type": "code",
   "execution_count": 682,
   "id": "236c096f",
   "metadata": {},
   "outputs": [
    {
     "name": "stdout",
     "output_type": "stream",
     "text": [
      "7\n",
      "546\n",
      "175\n",
      "95550\n"
     ]
    }
   ],
   "source": [
    "inputs = true_model_output['Input'].to_numpy()\n",
    "inputs = inputs.tolist()\n",
    "input2 =[]\n",
    "for i in range(len(inputs)):\n",
    "    input2.append(inputs[i][0:100])\n",
    "input_no_dup =  [i for n, i in enumerate(input2) if i not in input2[:n]]\n",
    "input_pairs = create_pairs([df15], input_no_dup)"
   ]
  },
  {
   "cell_type": "code",
   "execution_count": 684,
   "id": "6cd007d5",
   "metadata": {},
   "outputs": [
    {
     "name": "stdout",
     "output_type": "stream",
     "text": [
      "6\n",
      "455\n",
      "177\n",
      "80535\n"
     ]
    }
   ],
   "source": [
    "second_inputs = second_true_model_output['Input'].to_numpy()\n",
    "second_inputs = second_inputs.tolist()\n",
    "second_input2 =[]\n",
    "for i in range(len(second_inputs)):\n",
    "    second_input2.append(second_inputs[i][0:100])\n",
    "second_input_no_dup =  [i for n, i in enumerate(second_input2) if i not in second_input2[:n]]\n",
    "second_input_pairs = create_pairs([df16], second_input_no_dup)"
   ]
  },
  {
   "cell_type": "code",
   "execution_count": 685,
   "id": "ecd149f5",
   "metadata": {},
   "outputs": [
    {
     "name": "stdout",
     "output_type": "stream",
     "text": [
      "15\n",
      "29\n",
      "1365\n",
      "2470\n",
      "3371550\n"
     ]
    }
   ],
   "source": [
    "training_inputs = true_training_model_output['Input'].to_numpy()\n",
    "training_inputs = training_inputs.tolist()\n",
    "train_inputs2 = []\n",
    "for i in range(len(training_inputs)):\n",
    "    train_inputs2.append(training_inputs[i][0:100])\n",
    "train_input_no_dup =  [i for n, i in enumerate(train_inputs2) if i not in train_inputs2[:n]]\n",
    "print(len(train_input_no_dup))\n",
    "train_input_pairs = create_pairs([df1,df2,df3,df4,df5,df6,df7,df8,df9,df10,df11,df12,df13,df14], train_input_no_dup)"
   ]
  },
  {
   "cell_type": "code",
   "execution_count": 686,
   "id": "6b09ac3c",
   "metadata": {},
   "outputs": [],
   "source": [
    "binary_training = create_overlap_binary_class(train_input_pairs, correct_pair_training)\n",
    "binary = create_overlap_binary_test_class(input_pairs, correct_pair15)\n",
    "second_binary = create_overlap_binary_test_class(second_input_pairs, correct_pair16)"
   ]
  },
  {
   "cell_type": "code",
   "execution_count": 687,
   "id": "f411ebf9",
   "metadata": {},
   "outputs": [
    {
     "name": "stdout",
     "output_type": "stream",
     "text": [
      "2470\n",
      "Counter({0: 92830, 1: 2720})\n",
      "Counter({0: 3331510, 1: 40040})\n",
      "Counter({0: 77771, 1: 2764})\n"
     ]
    }
   ],
   "source": [
    "print(total)\n",
    "print(Counter(binary))\n",
    "print(Counter(binary_training))\n",
    "print(Counter(second_binary))"
   ]
  },
  {
   "cell_type": "code",
   "execution_count": 688,
   "id": "15dda1ed",
   "metadata": {},
   "outputs": [],
   "source": [
    "x2 = train_input_pairs\n",
    "y2 = binary_training"
   ]
  },
  {
   "cell_type": "code",
   "execution_count": 689,
   "id": "758feb09",
   "metadata": {},
   "outputs": [
    {
     "name": "stdout",
     "output_type": "stream",
     "text": [
      "0          [1.4885024, 0.41062662, -0.291773, 1.38177596,...\n",
      "1          [1.4885024, 0.41062662, -0.291773, 1.38177596,...\n",
      "2          [1.4885024, 0.41062662, -0.291773, 1.38177596,...\n",
      "3          [1.4885024, 0.41062662, -0.291773, 1.38177596,...\n",
      "4          [1.4885024, 0.41062662, -0.291773, 1.38177596,...\n",
      "                                 ...                        \n",
      "3371545    [0.6378242, 0.62562863, 1.01135455, 1.72364085...\n",
      "3371546    [0.6378242, 0.62562863, 1.01135455, 1.72364085...\n",
      "3371547    [0.6378242, 0.62562863, 1.01135455, 1.72364085...\n",
      "3371548    [0.6378242, 0.62562863, 1.01135455, 1.72364085...\n",
      "3371549    [0.6378242, 0.62562863, 1.01135455, 1.72364085...\n",
      "Length: 3371550, dtype: object\n",
      "0          0\n",
      "1          0\n",
      "2          0\n",
      "3          0\n",
      "4          0\n",
      "          ..\n",
      "3371545    0\n",
      "3371546    0\n",
      "3371547    0\n",
      "3371548    0\n",
      "3371549    0\n",
      "Length: 3371550, dtype: int64\n"
     ]
    }
   ],
   "source": [
    "x2 = pd.Series(x2)\n",
    "y2 = pd.Series(y2)\n",
    "print(x2)\n",
    "print(y2)"
   ]
  },
  {
   "cell_type": "code",
   "execution_count": 690,
   "id": "11dba1aa",
   "metadata": {},
   "outputs": [
    {
     "name": "stdout",
     "output_type": "stream",
     "text": [
      "                                                         0  1\n",
      "0        [1.4885024, 0.41062662, -0.291773, 1.38177596,...  0\n",
      "1        [1.4885024, 0.41062662, -0.291773, 1.38177596,...  0\n",
      "2        [1.4885024, 0.41062662, -0.291773, 1.38177596,...  0\n",
      "3        [1.4885024, 0.41062662, -0.291773, 1.38177596,...  0\n",
      "4        [1.4885024, 0.41062662, -0.291773, 1.38177596,...  0\n",
      "...                                                    ... ..\n",
      "3371545  [0.6378242, 0.62562863, 1.01135455, 1.72364085...  0\n",
      "3371546  [0.6378242, 0.62562863, 1.01135455, 1.72364085...  0\n",
      "3371547  [0.6378242, 0.62562863, 1.01135455, 1.72364085...  0\n",
      "3371548  [0.6378242, 0.62562863, 1.01135455, 1.72364085...  0\n",
      "3371549  [0.6378242, 0.62562863, 1.01135455, 1.72364085...  0\n",
      "\n",
      "[3371550 rows x 2 columns]\n"
     ]
    }
   ],
   "source": [
    "df = pd.concat([x2,y2], axis=1)\n",
    "print(df)"
   ]
  },
  {
   "cell_type": "code",
   "execution_count": 691,
   "id": "71de0c78",
   "metadata": {},
   "outputs": [
    {
     "name": "stdout",
     "output_type": "stream",
     "text": [
      "Training Data: \n",
      "1685775\n",
      "----------------------------------------------\n",
      "Testing Data: \n",
      "1685775\n"
     ]
    }
   ],
   "source": [
    "x2_train,x2_test,y2_train,y2_test = train_test_split(x2,y2,test_size=0.5)\n",
    "print('Training Data: ')\n",
    "print(len(x2_train))\n",
    "print('----------------------------------------------')\n",
    "print('Testing Data: ')\n",
    "print(len(x2_test))"
   ]
  },
  {
   "cell_type": "code",
   "execution_count": 692,
   "id": "2d5e917e",
   "metadata": {},
   "outputs": [
    {
     "name": "stdout",
     "output_type": "stream",
     "text": [
      "y_train class distribution\n",
      "0    0.988061\n",
      "1    0.011939\n",
      "dtype: float64\n",
      "y_test class distribution\n",
      "0    0.988188\n",
      "1    0.011812\n",
      "dtype: float64\n"
     ]
    }
   ],
   "source": [
    "print('y_train class distribution')\n",
    "print(y2_train.value_counts(normalize=True))\n",
    "print('y_test class distribution')\n",
    "print(y2_test.value_counts(normalize=True))"
   ]
  },
  {
   "cell_type": "code",
   "execution_count": 693,
   "id": "63d768a1",
   "metadata": {},
   "outputs": [],
   "source": [
    "training_set = pd.concat([x2_train, y2_train], axis=1)\n",
    "match = training_set[training_set.iloc[:, 1] == 1]\n",
    "no_match = training_set[training_set.iloc[:, 1] == 0]"
   ]
  },
  {
   "cell_type": "code",
   "execution_count": 694,
   "id": "f5366f42",
   "metadata": {},
   "outputs": [
    {
     "name": "stdout",
     "output_type": "stream",
     "text": [
      "                                                         0  1\n",
      "266081   [1.61855335, -0.6791819, 0.5894996, 0.95217467...  1\n",
      "1946090  [-0.2804868, 1.17584809, 1.83135523, 1.5120994...  1\n",
      "320982   [2.40829634, 1.59231896, 1.17019402, 1.2151748...  1\n",
      "2017425  [2.50469109, 0.91246684, 1.39053399, -0.766296...  1\n",
      "236753   [0.80209846, 1.37932635, 0.22155837, 1.7715290...  1\n",
      "...                                                    ... ..\n",
      "2417996  [0.525734368, 1.453157001, 1.563900754, 0.8838...  0\n",
      "610549   [-0.483887097, 0.92917536, 0.996057031, 2.5185...  0\n",
      "2032068  [-1.0732052, 0.64256171, 0.6597507, 1.77399482...  0\n",
      "236059   [0.80209846, 1.37932635, 0.22155837, 1.7715290...  0\n",
      "2787449  [-0.094270079, 1.357937188, 1.638711314, 0.658...  0\n",
      "\n",
      "[40254 rows x 2 columns]\n"
     ]
    },
    {
     "data": {
      "text/plain": [
       "1    0.5\n",
       "0    0.5\n",
       "Name: 1, dtype: float64"
      ]
     },
     "execution_count": 694,
     "metadata": {},
     "output_type": "execute_result"
    }
   ],
   "source": [
    "undersample = resample(no_match, replace = True, n_samples = len(match))\n",
    "undersample_train = pd.concat([match, undersample])\n",
    "print(undersample_train)\n",
    "undersample_train.iloc[:, 1].value_counts(normalize = True)"
   ]
  },
  {
   "cell_type": "code",
   "execution_count": 695,
   "id": "e1f1a59f",
   "metadata": {},
   "outputs": [
    {
     "name": "stdout",
     "output_type": "stream",
     "text": [
      "266081     1\n",
      "1946090    1\n",
      "320982     1\n",
      "2017425    1\n",
      "236753     1\n",
      "          ..\n",
      "2417996    0\n",
      "610549     0\n",
      "2032068    0\n",
      "236059     0\n",
      "2787449    0\n",
      "Name: 1, Length: 40254, dtype: int64\n",
      "5928\n",
      "40254\n",
      "40254\n",
      "1685775\n"
     ]
    }
   ],
   "source": [
    "undersample_x_train = np.array(undersample_train.drop(1, axis = 1))\n",
    "undersample_y_train = undersample_train[1]\n",
    "#print(undersample_x_train)\n",
    "print(undersample_y_train)\n",
    "undersample_x_train_list = []\n",
    "for i in range(len(undersample_x_train)):\n",
    "    if len(undersample_x_train[i][0]) == 20:\n",
    "        undersample_x_train_list.append(undersample_x_train[i][0])\n",
    "        i+=1\n",
    "    else:\n",
    "        #print(undersample_x_train[i])\n",
    "        print(len(undersample_x_train[i]))\n",
    "        i+=1\n",
    "print(len(x_test))\n",
    "x_test_list =  np.array(x2_test,dtype = list);\n",
    "x2_test_final = []\n",
    "for i in range(len(x_test_list)):\n",
    "\n",
    "    if len(x_test_list[i]) == 20:\n",
    "        x2_test_final.append(x_test_list[i])\n",
    "        i+=1\n",
    "    else:\n",
    "        #print(undersample_x_train[i])\n",
    "        #print(len(undersample_x_train[i]))\n",
    "        i+=1\n",
    "print(len(undersample_x_train_list))\n",
    "print(len(undersample_y_train))\n",
    "print(len(x2_test_final))"
   ]
  },
  {
   "cell_type": "code",
   "execution_count": 696,
   "id": "7426c033",
   "metadata": {},
   "outputs": [],
   "source": [
    "mlp2 = MLPClassifier()"
   ]
  },
  {
   "cell_type": "code",
   "execution_count": 697,
   "id": "cbf518fe",
   "metadata": {},
   "outputs": [
    {
     "data": {
      "text/plain": [
       "GridSearchCV(cv=10, estimator=MLPClassifier(), n_jobs=-1,\n",
       "             param_grid={'activation': ['relu'], 'alpha': [0.0001],\n",
       "                         'early_stopping': [False],\n",
       "                         'hidden_layer_sizes': [(164, 160, 120)],\n",
       "                         'learning_rate': ['constant'], 'max_iter': [5000],\n",
       "                         'solver': ['adam']})"
      ]
     },
     "execution_count": 697,
     "metadata": {},
     "output_type": "execute_result"
    }
   ],
   "source": [
    "parameter_space = {\n",
    "    'hidden_layer_sizes': [ (164,160,120,)],\n",
    "    'activation': ['relu'],\n",
    "    'solver': [ 'adam'],\n",
    "    'alpha': [0.0001],\n",
    "    'learning_rate': ['constant'],\n",
    "    'max_iter' : [5000],\n",
    "    'early_stopping' : [False]\n",
    "}\n",
    "clf2 = GridSearchCV(mlp2, parameter_space, n_jobs=-1, cv=10)\n",
    "clf2.fit(undersample_x_train_list, undersample_y_train) # X is train samples and y is the corresponding labels"
   ]
  },
  {
   "cell_type": "code",
   "execution_count": 698,
   "id": "95012cd3",
   "metadata": {},
   "outputs": [
    {
     "name": "stdout",
     "output_type": "stream",
     "text": [
      "Best parameters found:\n",
      " {'activation': 'relu', 'alpha': 0.001, 'early_stopping': False, 'hidden_layer_sizes': (300, 100), 'learning_rate': 'constant', 'max_iter': 7000, 'solver': 'adam'}\n"
     ]
    }
   ],
   "source": [
    "print('Best parameters found:\\n', clf.best_params_)"
   ]
  },
  {
   "cell_type": "code",
   "execution_count": 699,
   "id": "49a2c26a",
   "metadata": {},
   "outputs": [
    {
     "name": "stdout",
     "output_type": "stream",
     "text": [
      "0.779 (+/-0.016) for {'activation': 'relu', 'alpha': 0.0001, 'early_stopping': False, 'hidden_layer_sizes': (164, 160, 120), 'learning_rate': 'constant', 'max_iter': 5000, 'solver': 'adam'}\n"
     ]
    }
   ],
   "source": [
    "means = clf2.cv_results_['mean_test_score']\n",
    "stds = clf2.cv_results_['std_test_score']\n",
    "for mean, std, params in zip(means, stds, clf2.cv_results_['params']):\n",
    "    print(\"%0.3f (+/-%0.03f) for %r\" % (mean, std * 2, params))"
   ]
  },
  {
   "cell_type": "code",
   "execution_count": 700,
   "id": "c5a862eb",
   "metadata": {},
   "outputs": [
    {
     "name": "stdout",
     "output_type": "stream",
     "text": [
      "Results on the test set:\n",
      "              precision    recall  f1-score   support\n",
      "\n",
      "           0       0.87      0.90      0.89      4472\n",
      "           1       0.66      0.60      0.63      1456\n",
      "\n",
      "    accuracy                           0.83      5928\n",
      "   macro avg       0.77      0.75      0.76      5928\n",
      "weighted avg       0.82      0.83      0.82      5928\n",
      "\n"
     ]
    }
   ],
   "source": [
    "y2_true, y2_pred = y2_test , clf2.predict(x2_test_final)\n",
    "from sklearn.metrics import classification_report\n",
    "print('Results on the test set:')\n",
    "print(classification_report(y_true, y_pred))"
   ]
  },
  {
   "cell_type": "code",
   "execution_count": 701,
   "id": "07cfa13e",
   "metadata": {},
   "outputs": [
    {
     "data": {
      "text/plain": [
       "(0.7666609664257988, 0.7509823025811397, 0.7581378137386763, None)"
      ]
     },
     "execution_count": 701,
     "metadata": {},
     "output_type": "execute_result"
    }
   ],
   "source": [
    "precision_recall_fscore_support(y_true, y_pred, average='macro')"
   ]
  },
  {
   "cell_type": "code",
   "execution_count": 702,
   "id": "1c7d436b",
   "metadata": {},
   "outputs": [
    {
     "data": {
      "image/png": "[encoded data removed]",
      "text/plain": [
       "<Figure size 432x288 with 2 Axes>"
      ]
     },
     "metadata": {
      "needs_background": "light"
     },
     "output_type": "display_data"
    }
   ],
   "source": [
    "cm = confusion_matrix(y2_true, y2_pred)\n",
    "disp = ConfusionMatrixDisplay(confusion_matrix=cm,display_labels=[0,1], )\n",
    "disp.plot(cmap=\"YlGnBu\")\n",
    "\n",
    "plt.show()"
   ]
  },
  {
   "cell_type": "code",
   "execution_count": 703,
   "id": "6fd532f8",
   "metadata": {},
   "outputs": [
    {
     "data": {
      "image/png": "[encoded data removed]",
      "text/plain": [
       "<Figure size 432x288 with 2 Axes>"
      ]
     },
     "metadata": {
      "needs_background": "light"
     },
     "output_type": "display_data"
    }
   ],
   "source": [
    "outputs= clf2.predict(input_pairs)\n",
    "cm = confusion_matrix(binary, clf2.predict(input_pairs))\n",
    "disp = ConfusionMatrixDisplay(confusion_matrix=cm,display_labels=[0,1], )\n",
    "disp.plot(cmap=\"YlGnBu\")\n",
    "plt.show()"
   ]
  },
  {
   "cell_type": "code",
   "execution_count": 704,
   "id": "a6f3c934",
   "metadata": {},
   "outputs": [
    {
     "data": {
      "image/png": "[encoded data removed]",
      "text/plain": [
       "<Figure size 432x288 with 2 Axes>"
      ]
     },
     "metadata": {
      "needs_background": "light"
     },
     "output_type": "display_data"
    }
   ],
   "source": [
    "second_outputs= clf2.predict(second_input_pairs)\n",
    "cm = confusion_matrix(second_binary, clf2.predict(second_input_pairs))\n",
    "disp = ConfusionMatrixDisplay(confusion_matrix=cm,display_labels=[0,1], )\n",
    "disp.plot(cmap=\"YlGnBu\")\n",
    "plt.show()"
   ]
  },
  {
   "cell_type": "markdown",
   "id": "46ef03e4",
   "metadata": {},
   "source": [
    "# Model 2 complete"
   ]
  },
  {
   "cell_type": "code",
   "execution_count": 705,
   "id": "7f9bcabd",
   "metadata": {},
   "outputs": [],
   "source": [
    "model_2_training_output = pd.DataFrame()\n",
    "model_2_training_output['Input'] = x2_test_final\n",
    "model_2_training_output['Output'] = y2_pred"
   ]
  },
  {
   "cell_type": "code",
   "execution_count": 706,
   "id": "135e78b6",
   "metadata": {},
   "outputs": [],
   "source": [
    "second_model_2_output = pd.DataFrame()\n",
    "second_model_2_output['Input'] = second_input_pairs\n",
    "second_model_2_output['Output'] = second_outputs"
   ]
  },
  {
   "cell_type": "code",
   "execution_count": 707,
   "id": "d69e1222",
   "metadata": {},
   "outputs": [],
   "source": [
    "model_2_output = pd.DataFrame()\n",
    "model_2_output['Input'] = input_pairs\n",
    "model_2_output['Output'] = outputs"
   ]
  },
  {
   "cell_type": "code",
   "execution_count": 708,
   "id": "dc481fc0",
   "metadata": {},
   "outputs": [],
   "source": [
    "true_model_training_output2 = model_2_training_output.loc[model_2_training_output['Output'] == 1]\n",
    "true_model_output2 = model_2_output.loc[model_2_output['Output'] == 1]\n",
    "second_true_model_output2 = second_model_2_output.loc[second_model_2_output['Output'] == 1]"
   ]
  },
  {
   "cell_type": "code",
   "execution_count": 709,
   "id": "a2d5fc4e",
   "metadata": {},
   "outputs": [],
   "source": [
    "training_inputs2 = true_model_training_output2['Input'].to_numpy()\n",
    "inputs2 = true_model_output2['Input'].to_numpy()\n",
    "second_inputs2 = second_true_model_output2['Input'].to_numpy()"
   ]
  },
  {
   "cell_type": "code",
   "execution_count": 710,
   "id": "bca1dbf5",
   "metadata": {},
   "outputs": [],
   "source": [
    "training_inputs3 = training_inputs2.tolist()\n",
    "inputs3 = inputs2.tolist()\n",
    "second_inputs3 = second_inputs2.tolist()"
   ]
  },
  {
   "cell_type": "code",
   "execution_count": 711,
   "id": "f8654291",
   "metadata": {},
   "outputs": [],
   "source": [
    "training_correct = create_binary_training_class(training_inputs2, correct_pair_training)\n",
    "correct2 = create_binary_class(inputs2, correct_pair15)\n",
    "second_correct2 = create_binary_class(second_inputs2, correct_pair16)"
   ]
  },
  {
   "cell_type": "code",
   "execution_count": 712,
   "id": "ca2094c5",
   "metadata": {},
   "outputs": [
    {
     "name": "stdout",
     "output_type": "stream",
     "text": [
      "Counter({0: 381784, 1: 1443})\n",
      "Counter({0: 21819, 1: 189})\n",
      "Counter({0: 21731, 1: 184})\n"
     ]
    }
   ],
   "source": [
    "print(Counter(training_correct))\n",
    "print(Counter(correct2))\n",
    "print(Counter(second_correct2))"
   ]
  },
  {
   "cell_type": "code",
   "execution_count": 810,
   "id": "27fb7910",
   "metadata": {},
   "outputs": [
    {
     "name": "stdout",
     "output_type": "stream",
     "text": [
      "0         [1.381435791, -1.073205217, 0.642561713, 0.659...\n",
      "1         [2.04463417, 0.90436038, -0.3294019, 0.4924466...\n",
      "2         [1.204560256, 1.193276075, 0.988821603, -0.206...\n",
      "3         [1.139929482, 0.836088762, 0.58126879, 0.97348...\n",
      "4         [1.50744405, 1.4885024, 0.41062662, -0.291773,...\n",
      "                                ...                        \n",
      "383222    [0.789497318, 0.298639244, 1.513617755, 0.7388...\n",
      "383223    [1.77152905, 1.08235686, 2.08999633, 1.0744051...\n",
      "383224    [0.20384265, 1.14818802, -0.5688825, 1.2955036...\n",
      "383225    [0.691233919, 1.382665225, 1.732319519, 0.8931...\n",
      "383226    [1.020978421, 0.071805527, 1.178792732, -0.745...\n",
      "Length: 383227, dtype: object\n",
      "0         0\n",
      "1         0\n",
      "2         0\n",
      "3         0\n",
      "4         0\n",
      "         ..\n",
      "383222    0\n",
      "383223    0\n",
      "383224    0\n",
      "383225    0\n",
      "383226    0\n",
      "Length: 383227, dtype: int64\n"
     ]
    }
   ],
   "source": [
    "x3 = pd.Series(training_inputs3)\n",
    "y3 = pd.Series(training_correct)\n",
    "print(x3)\n",
    "print(y3)"
   ]
  },
  {
   "cell_type": "code",
   "execution_count": 807,
   "id": "889682fa",
   "metadata": {},
   "outputs": [],
   "source": [
    "x3 = training_inputs3\n",
    "y3 = training_correct"
   ]
  },
  {
   "cell_type": "code",
   "execution_count": 811,
   "id": "40c61e68",
   "metadata": {},
   "outputs": [
    {
     "name": "stdout",
     "output_type": "stream",
     "text": [
      "Training Data: \n",
      "8892\n",
      "----------------------------------------------\n",
      "Testing Data: \n",
      "5928\n"
     ]
    }
   ],
   "source": [
    "x3_train,x3_test,y3_train,y3_test = train_test_split(x3,y3,test_size=0.5)\n",
    "print('Training Data: ')\n",
    "print(len(x_train))\n",
    "print('----------------------------------------------')\n",
    "print('Testing Data: ')\n",
    "print(len(x_test))\n"
   ]
  },
  {
   "cell_type": "code",
   "execution_count": 812,
   "id": "68f0e04f",
   "metadata": {},
   "outputs": [],
   "source": [
    "training_set3 = pd.concat([x3_train, y3_train], axis=1)\n",
    "match3 = training_set3[training_set3.iloc[:, 1] == 1]\n",
    "no_match3 = training_set3[training_set3.iloc[:, 1] == 0]"
   ]
  },
  {
   "cell_type": "code",
   "execution_count": 813,
   "id": "b6b31c37",
   "metadata": {},
   "outputs": [
    {
     "name": "stdout",
     "output_type": "stream",
     "text": [
      "                                                        0  1\n",
      "89365   [1.14818802, -0.5688825, 1.29550367, 1.2215059...  1\n",
      "221316  [1.61855335, -0.6791819, 0.5894996, 0.95217467...  1\n",
      "366055  [0.863887903, 1.621562201, 1.789349772, 1.1561...  1\n",
      "278636  [0.843701931, 0.929993694, 1.698734285, 1.1073...  1\n",
      "92353   [-0.1102514, 0.06852848, 1.01821553, 1.3139206...  1\n",
      "...                                                   ... ..\n",
      "265065  [1.33270282, 1.77969428, 1.5396454, 0.9735593,...  0\n",
      "25406   [1.58996733, 0.769886, 1.80648463, 1.13992948,...  0\n",
      "149647  [0.492446636, -0.006488797, 1.332702824, 1.779...  0\n",
      "61587   [-1.249796541, 0.538684009, 0.633023227, 0.593...  0\n",
      "177589  [1.08235686, 2.089996327, 1.074405162, -0.4304...  0\n",
      "\n",
      "[1428 rows x 2 columns]\n"
     ]
    },
    {
     "data": {
      "text/plain": [
       "1    0.5\n",
       "0    0.5\n",
       "Name: 1, dtype: float64"
      ]
     },
     "execution_count": 813,
     "metadata": {},
     "output_type": "execute_result"
    }
   ],
   "source": [
    "undersample3 = resample(no_match3, replace = True, n_samples = len(match3))\n",
    "undersample_train3 = pd.concat([match3, undersample3])\n",
    "print(undersample_train3)\n",
    "undersample_train3.iloc[:, 1].value_counts(normalize = True)"
   ]
  },
  {
   "cell_type": "code",
   "execution_count": 721,
   "id": "04dbeecd",
   "metadata": {},
   "outputs": [
    {
     "name": "stdout",
     "output_type": "stream",
     "text": [
      "62008     1\n",
      "181879    1\n",
      "4580      1\n",
      "341875    1\n",
      "15338     1\n",
      "         ..\n",
      "130297    0\n",
      "97032     0\n",
      "194749    0\n",
      "143532    0\n",
      "7208      0\n",
      "Name: 1, Length: 1472, dtype: int64\n",
      "1472\n",
      "1472\n",
      "191614\n"
     ]
    }
   ],
   "source": [
    "undersample_x_train3 = np.array(undersample_train3.drop(1, axis = 1))\n",
    "undersample_y_train3 = undersample_train3[1]\n",
    "#print(undersample_x_train)\n",
    "print(undersample_y_train3)\n",
    "undersample_x_train_list3 = []\n",
    "for i in range(len(undersample_x_train3)):\n",
    "    if len(undersample_x_train3[i][0]) == 20:\n",
    "        undersample_x_train_list3.append(undersample_x_train3[i][0])\n",
    "        i+=1\n",
    "    else:\n",
    "        continue\n",
    "        i+=1\n",
    "x_test_list3 =  np.array(x3_test,dtype = list)\n",
    "x_test_final3 = []\n",
    "for i in range(len(x_test_list3)):\n",
    "    if len(x_test_list3[i]) == 20:\n",
    "        x_test_final3.append(x_test_list3[i])\n",
    "    else:\n",
    "        #print(undersample_x_train[i])\n",
    "        #print(len(undersample_x_train[i]))\n",
    "        continue\n",
    "print(len(undersample_x_train_list3))\n",
    "print(len(undersample_y_train3))\n",
    "print(len(x_test_final3))"
   ]
  },
  {
   "cell_type": "code",
   "execution_count": 728,
   "id": "4e44c489",
   "metadata": {},
   "outputs": [],
   "source": [
    "mlp3 = MLPClassifier()"
   ]
  },
  {
   "cell_type": "code",
   "execution_count": 749,
   "id": "3f7ca72e",
   "metadata": {},
   "outputs": [
    {
     "data": {
      "text/plain": [
       "GridSearchCV(cv=10, estimator=MLPClassifier(), n_jobs=-1,\n",
       "             param_grid={'activation': ['relu'], 'alpha': [0.0001],\n",
       "                         'early_stopping': [False],\n",
       "                         'hidden_layer_sizes': [(525,)],\n",
       "                         'learning_rate': ['invscaling'], 'max_iter': [600],\n",
       "                         'solver': ['adam']})"
      ]
     },
     "execution_count": 749,
     "metadata": {},
     "output_type": "execute_result"
    }
   ],
   "source": [
    "parameter_space = {\n",
    "    'hidden_layer_sizes': [(525,)],\n",
    "    'activation': ['relu'],\n",
    "    'solver': [ 'adam'],\n",
    "    'alpha': [0.0001],\n",
    "    'learning_rate': ['invscaling'],\n",
    "    'max_iter' : [600],\n",
    "    'early_stopping' : [False]\n",
    "}\n",
    "\n",
    "scorers = {\n",
    "    'precision_score': make_scorer(precision_score),\n",
    "    'recall_score': make_scorer(recall_score),\n",
    "    'accuracy_score': make_scorer(accuracy_score)\n",
    "}\n",
    "clf3 = GridSearchCV(mlp3, parameter_space, n_jobs=-1, cv=10)\n",
    "clf3.fit(x3_train, y3_train) # X is train samples and y is the corresponding labels"
   ]
  },
  {
   "cell_type": "code",
   "execution_count": 750,
   "id": "e8de0ed4",
   "metadata": {},
   "outputs": [
    {
     "name": "stdout",
     "output_type": "stream",
     "text": [
      "Best parameters found:\n",
      " {'activation': 'relu', 'alpha': 0.0001, 'early_stopping': False, 'hidden_layer_sizes': (525,), 'learning_rate': 'invscaling', 'max_iter': 600, 'solver': 'adam'}\n"
     ]
    }
   ],
   "source": [
    "print('Best parameters found:\\n', clf3.best_params_)"
   ]
  },
  {
   "cell_type": "code",
   "execution_count": 751,
   "id": "5e6f263b",
   "metadata": {},
   "outputs": [
    {
     "name": "stdout",
     "output_type": "stream",
     "text": [
      "0.995 (+/-0.001) for {'activation': 'relu', 'alpha': 0.0001, 'early_stopping': False, 'hidden_layer_sizes': (525,), 'learning_rate': 'invscaling', 'max_iter': 600, 'solver': 'adam'}\n"
     ]
    }
   ],
   "source": [
    "means = clf3.cv_results_['mean_test_score']\n",
    "stds = clf3.cv_results_['std_test_score']\n",
    "for mean, std, params in zip(means, stds, clf3.cv_results_['params']):\n",
    "    print(\"%0.3f (+/-%0.03f) for %r\" % (mean, std * 2, params))"
   ]
  },
  {
   "cell_type": "code",
   "execution_count": 752,
   "id": "5041fe97",
   "metadata": {},
   "outputs": [
    {
     "name": "stdout",
     "output_type": "stream",
     "text": [
      "Results on the test set:\n",
      "              precision    recall  f1-score   support\n",
      "\n",
      "           0       1.00      1.00      1.00    190887\n",
      "           1       0.19      0.13      0.15       727\n",
      "\n",
      "    accuracy                           0.99    191614\n",
      "   macro avg       0.59      0.56      0.57    191614\n",
      "weighted avg       0.99      0.99      0.99    191614\n",
      "\n"
     ]
    }
   ],
   "source": [
    "y3_true, y3_pred = y3_test , clf3.predict(x3_test)\n",
    "from sklearn.metrics import classification_report\n",
    "print('Results on the test set:')\n",
    "print(classification_report(y3_true, y3_pred))"
   ]
  },
  {
   "cell_type": "code",
   "execution_count": 753,
   "id": "cef9ed5e",
   "metadata": {},
   "outputs": [
    {
     "data": {
      "image/png": "[encoded data removed]",
      "text/plain": [
       "<Figure size 432x288 with 2 Axes>"
      ]
     },
     "metadata": {
      "needs_background": "light"
     },
     "output_type": "display_data"
    }
   ],
   "source": [
    "cm = confusion_matrix(y3_true, y3_pred)\n",
    "disp = ConfusionMatrixDisplay(confusion_matrix=cm,display_labels=[0,1], )\n",
    "disp.plot(cmap=\"YlGnBu\")\n",
    "\n",
    "plt.show()"
   ]
  },
  {
   "cell_type": "code",
   "execution_count": 754,
   "id": "5db4f5b5",
   "metadata": {},
   "outputs": [
    {
     "data": {
      "image/png": "[encoded data removed]",
      "text/plain": [
       "<Figure size 432x288 with 2 Axes>"
      ]
     },
     "metadata": {
      "needs_background": "light"
     },
     "output_type": "display_data"
    }
   ],
   "source": [
    "output3 = clf3.predict(inputs3)\n",
    "cm = confusion_matrix(correct2, output3)\n",
    "disp = ConfusionMatrixDisplay(confusion_matrix=cm,display_labels=[0,1], )\n",
    "disp.plot(cmap=\"YlGnBu\")\n",
    "\n",
    "plt.show()"
   ]
  },
  {
   "cell_type": "code",
   "execution_count": 755,
   "id": "e116cee1",
   "metadata": {},
   "outputs": [
    {
     "data": {
      "image/png": "[encoded data removed]",
      "text/plain": [
       "<Figure size 432x288 with 2 Axes>"
      ]
     },
     "metadata": {
      "needs_background": "light"
     },
     "output_type": "display_data"
    }
   ],
   "source": [
    "second_output3 = clf3.predict(second_inputs3)\n",
    "cm = confusion_matrix(second_correct2, second_output3)\n",
    "disp = ConfusionMatrixDisplay(confusion_matrix=cm,display_labels=[0,1], )\n",
    "disp.plot(cmap=\"YlGnBu\")\n",
    "\n",
    "plt.show()"
   ]
  },
  {
   "cell_type": "markdown",
   "id": "ef801fea",
   "metadata": {},
   "source": [
    "# Model 3 Completed"
   ]
  },
  {
   "cell_type": "code",
   "execution_count": 756,
   "id": "87865b4b",
   "metadata": {},
   "outputs": [
    {
     "data": {
      "text/html": [
       "<div>\n",
       "<style scoped>\n",
       "    .dataframe tbody tr th:only-of-type {\n",
       "        vertical-align: middle;\n",
       "    }\n",
       "\n",
       "    .dataframe tbody tr th {\n",
       "        vertical-align: top;\n",
       "    }\n",
       "\n",
       "    .dataframe thead th {\n",
       "        text-align: right;\n",
       "    }\n",
       "</style>\n",
       "<table border=\"1\" class=\"dataframe\">\n",
       "  <thead>\n",
       "    <tr style=\"text-align: right;\">\n",
       "      <th></th>\n",
       "      <th>Input</th>\n",
       "      <th>Output</th>\n",
       "    </tr>\n",
       "  </thead>\n",
       "  <tbody>\n",
       "    <tr>\n",
       "      <th>0</th>\n",
       "      <td>[2.23587, 1.1323287, -0.8415643, -0.1301236, 1...</td>\n",
       "      <td>0</td>\n",
       "    </tr>\n",
       "    <tr>\n",
       "      <th>1</th>\n",
       "      <td>[2.23587, 1.1323287, -0.8415643, -0.1301236, 1...</td>\n",
       "      <td>0</td>\n",
       "    </tr>\n",
       "    <tr>\n",
       "      <th>2</th>\n",
       "      <td>[2.23587, 1.1323287, -0.8415643, -0.1301236, 1...</td>\n",
       "      <td>0</td>\n",
       "    </tr>\n",
       "    <tr>\n",
       "      <th>3</th>\n",
       "      <td>[2.23587, 1.1323287, -0.8415643, -0.1301236, 1...</td>\n",
       "      <td>0</td>\n",
       "    </tr>\n",
       "    <tr>\n",
       "      <th>4</th>\n",
       "      <td>[2.23587, 1.1323287, -0.8415643, -0.1301236, 1...</td>\n",
       "      <td>0</td>\n",
       "    </tr>\n",
       "  </tbody>\n",
       "</table>\n",
       "</div>"
      ],
      "text/plain": [
       "                                               Input  Output\n",
       "0  [2.23587, 1.1323287, -0.8415643, -0.1301236, 1...       0\n",
       "1  [2.23587, 1.1323287, -0.8415643, -0.1301236, 1...       0\n",
       "2  [2.23587, 1.1323287, -0.8415643, -0.1301236, 1...       0\n",
       "3  [2.23587, 1.1323287, -0.8415643, -0.1301236, 1...       0\n",
       "4  [2.23587, 1.1323287, -0.8415643, -0.1301236, 1...       0"
      ]
     },
     "execution_count": 756,
     "metadata": {},
     "output_type": "execute_result"
    }
   ],
   "source": [
    "model_3_output = pd.DataFrame()\n",
    "model_3_output['Input'] = inputs3\n",
    "model_3_output['Output'] = output3\n",
    "model_3_output.head()"
   ]
  },
  {
   "cell_type": "code",
   "execution_count": 757,
   "id": "8227db2a",
   "metadata": {},
   "outputs": [
    {
     "data": {
      "text/html": [
       "<div>\n",
       "<style scoped>\n",
       "    .dataframe tbody tr th:only-of-type {\n",
       "        vertical-align: middle;\n",
       "    }\n",
       "\n",
       "    .dataframe tbody tr th {\n",
       "        vertical-align: top;\n",
       "    }\n",
       "\n",
       "    .dataframe thead th {\n",
       "        text-align: right;\n",
       "    }\n",
       "</style>\n",
       "<table border=\"1\" class=\"dataframe\">\n",
       "  <thead>\n",
       "    <tr style=\"text-align: right;\">\n",
       "      <th></th>\n",
       "      <th>Input</th>\n",
       "      <th>Output</th>\n",
       "    </tr>\n",
       "  </thead>\n",
       "  <tbody>\n",
       "    <tr>\n",
       "      <th>0</th>\n",
       "      <td>[2.25950532, 1.61886373, 1.33494407, 1.1247960...</td>\n",
       "      <td>0</td>\n",
       "    </tr>\n",
       "    <tr>\n",
       "      <th>1</th>\n",
       "      <td>[1.61886373, 1.33494407, 1.12479603, 1.0783026...</td>\n",
       "      <td>0</td>\n",
       "    </tr>\n",
       "    <tr>\n",
       "      <th>2</th>\n",
       "      <td>[1.61886373, 1.33494407, 1.12479603, 1.0783026...</td>\n",
       "      <td>0</td>\n",
       "    </tr>\n",
       "    <tr>\n",
       "      <th>3</th>\n",
       "      <td>[1.61886373, 1.33494407, 1.12479603, 1.0783026...</td>\n",
       "      <td>0</td>\n",
       "    </tr>\n",
       "    <tr>\n",
       "      <th>4</th>\n",
       "      <td>[1.61886373, 1.33494407, 1.12479603, 1.0783026...</td>\n",
       "      <td>0</td>\n",
       "    </tr>\n",
       "  </tbody>\n",
       "</table>\n",
       "</div>"
      ],
      "text/plain": [
       "                                               Input  Output\n",
       "0  [2.25950532, 1.61886373, 1.33494407, 1.1247960...       0\n",
       "1  [1.61886373, 1.33494407, 1.12479603, 1.0783026...       0\n",
       "2  [1.61886373, 1.33494407, 1.12479603, 1.0783026...       0\n",
       "3  [1.61886373, 1.33494407, 1.12479603, 1.0783026...       0\n",
       "4  [1.61886373, 1.33494407, 1.12479603, 1.0783026...       0"
      ]
     },
     "execution_count": 757,
     "metadata": {},
     "output_type": "execute_result"
    }
   ],
   "source": [
    "second_model_3_output = pd.DataFrame()\n",
    "second_model_3_output['Input'] = second_inputs3\n",
    "second_model_3_output['Output'] = second_output3\n",
    "second_model_3_output.head()"
   ]
  },
  {
   "cell_type": "code",
   "execution_count": 758,
   "id": "379177b5",
   "metadata": {},
   "outputs": [
    {
     "data": {
      "text/html": [
       "<div>\n",
       "<style scoped>\n",
       "    .dataframe tbody tr th:only-of-type {\n",
       "        vertical-align: middle;\n",
       "    }\n",
       "\n",
       "    .dataframe tbody tr th {\n",
       "        vertical-align: top;\n",
       "    }\n",
       "\n",
       "    .dataframe thead th {\n",
       "        text-align: right;\n",
       "    }\n",
       "</style>\n",
       "<table border=\"1\" class=\"dataframe\">\n",
       "  <thead>\n",
       "    <tr style=\"text-align: right;\">\n",
       "      <th></th>\n",
       "      <th>Input</th>\n",
       "      <th>Output</th>\n",
       "    </tr>\n",
       "  </thead>\n",
       "  <tbody>\n",
       "    <tr>\n",
       "      <th>811</th>\n",
       "      <td>[-0.2386402, 0.50251261, -0.3771488, 1.0446443...</td>\n",
       "      <td>1</td>\n",
       "    </tr>\n",
       "    <tr>\n",
       "      <th>1193</th>\n",
       "      <td>[-0.2386402, 0.50251261, -0.3771488, 1.0446443...</td>\n",
       "      <td>1</td>\n",
       "    </tr>\n",
       "    <tr>\n",
       "      <th>1613</th>\n",
       "      <td>[1.77399482, 2.32922038, 0.90477069, 0.7773836...</td>\n",
       "      <td>1</td>\n",
       "    </tr>\n",
       "    <tr>\n",
       "      <th>2066</th>\n",
       "      <td>[0.61136053, 1.75372833, 1.58500661, 1.3334394...</td>\n",
       "      <td>1</td>\n",
       "    </tr>\n",
       "    <tr>\n",
       "      <th>2686</th>\n",
       "      <td>[1.77399482, 2.32922038, 0.90477069, 0.7773836...</td>\n",
       "      <td>1</td>\n",
       "    </tr>\n",
       "  </tbody>\n",
       "</table>\n",
       "</div>"
      ],
      "text/plain": [
       "                                                  Input  Output\n",
       "811   [-0.2386402, 0.50251261, -0.3771488, 1.0446443...       1\n",
       "1193  [-0.2386402, 0.50251261, -0.3771488, 1.0446443...       1\n",
       "1613  [1.77399482, 2.32922038, 0.90477069, 0.7773836...       1\n",
       "2066  [0.61136053, 1.75372833, 1.58500661, 1.3334394...       1\n",
       "2686  [1.77399482, 2.32922038, 0.90477069, 0.7773836...       1"
      ]
     },
     "execution_count": 758,
     "metadata": {},
     "output_type": "execute_result"
    }
   ],
   "source": [
    "true_model3_output = model_3_output.loc[model_3_output['Output'] == 1]\n",
    "true_model3_output.head()"
   ]
  },
  {
   "cell_type": "code",
   "execution_count": 759,
   "id": "08ee791c",
   "metadata": {},
   "outputs": [
    {
     "data": {
      "text/html": [
       "<div>\n",
       "<style scoped>\n",
       "    .dataframe tbody tr th:only-of-type {\n",
       "        vertical-align: middle;\n",
       "    }\n",
       "\n",
       "    .dataframe tbody tr th {\n",
       "        vertical-align: top;\n",
       "    }\n",
       "\n",
       "    .dataframe thead th {\n",
       "        text-align: right;\n",
       "    }\n",
       "</style>\n",
       "<table border=\"1\" class=\"dataframe\">\n",
       "  <thead>\n",
       "    <tr style=\"text-align: right;\">\n",
       "      <th></th>\n",
       "      <th>Input</th>\n",
       "      <th>Output</th>\n",
       "    </tr>\n",
       "  </thead>\n",
       "  <tbody>\n",
       "    <tr>\n",
       "      <th>4036</th>\n",
       "      <td>[2.12745041, 2.01290169, 0.9113422, 0.62391176...</td>\n",
       "      <td>1</td>\n",
       "    </tr>\n",
       "    <tr>\n",
       "      <th>5675</th>\n",
       "      <td>[1.38293722, 1.0880557, 0.20795981, -0.2748426...</td>\n",
       "      <td>1</td>\n",
       "    </tr>\n",
       "    <tr>\n",
       "      <th>6037</th>\n",
       "      <td>[2.12745041, 2.01290169, 0.9113422, 0.62391176...</td>\n",
       "      <td>1</td>\n",
       "    </tr>\n",
       "    <tr>\n",
       "      <th>7676</th>\n",
       "      <td>[1.38293722, 1.0880557, 0.20795981, -0.2748426...</td>\n",
       "      <td>1</td>\n",
       "    </tr>\n",
       "    <tr>\n",
       "      <th>8449</th>\n",
       "      <td>[1.93025973, 0.80209846, 1.37932635, 0.2215583...</td>\n",
       "      <td>1</td>\n",
       "    </tr>\n",
       "  </tbody>\n",
       "</table>\n",
       "</div>"
      ],
      "text/plain": [
       "                                                  Input  Output\n",
       "4036  [2.12745041, 2.01290169, 0.9113422, 0.62391176...       1\n",
       "5675  [1.38293722, 1.0880557, 0.20795981, -0.2748426...       1\n",
       "6037  [2.12745041, 2.01290169, 0.9113422, 0.62391176...       1\n",
       "7676  [1.38293722, 1.0880557, 0.20795981, -0.2748426...       1\n",
       "8449  [1.93025973, 0.80209846, 1.37932635, 0.2215583...       1"
      ]
     },
     "execution_count": 759,
     "metadata": {},
     "output_type": "execute_result"
    }
   ],
   "source": [
    "second_true_model3_output = second_model_3_output.loc[second_model_3_output['Output'] == 1]\n",
    "second_true_model3_output.head()"
   ]
  },
  {
   "cell_type": "code",
   "execution_count": 760,
   "id": "f9e06415",
   "metadata": {},
   "outputs": [
    {
     "name": "stdout",
     "output_type": "stream",
     "text": [
      "57\n"
     ]
    }
   ],
   "source": [
    "all_contender = true_model3_output['Input'].to_numpy()\n",
    "print(len(all_contender))"
   ]
  },
  {
   "cell_type": "code",
   "execution_count": 761,
   "id": "abe084d9",
   "metadata": {},
   "outputs": [
    {
     "name": "stdout",
     "output_type": "stream",
     "text": [
      "38\n"
     ]
    }
   ],
   "source": [
    "second_all_contender = second_true_model3_output['Input'].to_numpy()\n",
    "print(len(second_all_contender))"
   ]
  },
  {
   "cell_type": "code",
   "execution_count": 762,
   "id": "8919cac1",
   "metadata": {},
   "outputs": [
    {
     "name": "stdout",
     "output_type": "stream",
     "text": [
      "184\n"
     ]
    }
   ],
   "source": [
    "samples15 = []\n",
    "i= 0\n",
    "for col in df15.columns:\n",
    "    col_list = df15[col].tolist()\n",
    "    cleanedList = [x for x in col_list if x == x]\n",
    "    samples15.append(cleanedList)\n",
    "print(len(samples15[1]))  "
   ]
  },
  {
   "cell_type": "code",
   "execution_count": 763,
   "id": "78d8520a",
   "metadata": {},
   "outputs": [
    {
     "name": "stdout",
     "output_type": "stream",
     "text": [
      "186\n"
     ]
    }
   ],
   "source": [
    "samples16 = []\n",
    "i= 0\n",
    "for col in df16.columns:\n",
    "    col_list = df16[col].tolist()\n",
    "    cleanedList = [x for x in col_list if x == x]\n",
    "    samples16.append(cleanedList)\n",
    "    \n",
    "print(len(samples16[1]))"
   ]
  },
  {
   "cell_type": "code",
   "execution_count": 770,
   "id": "19f1419c",
   "metadata": {},
   "outputs": [
    {
     "name": "stdout",
     "output_type": "stream",
     "text": [
      "57\n",
      "[(1812, 39), (1751, 4), (1791, 4), (1539, 2), (1629, 2)]\n"
     ]
    }
   ],
   "source": [
    "start_year = []\n",
    "for i in range (len(all_contender.tolist())):\n",
    "    (master_seg15, sample_seg15) = all_contender[i][0:9], all_contender[i][10:20]\n",
    "    #print(f'{i} : {master_seg8, sample_seg8}')\n",
    "    start_year.append(df15.first_valid_index() + samples15[0].index(master_seg15[0]) - samples15[1].index(sample_seg15[0]))\n",
    "print(len(start_year))\n",
    "print(Counter(start_year).most_common(5))\n",
    "final_counter = Counter(start_year)"
   ]
  },
  {
   "cell_type": "code",
   "execution_count": 820,
   "id": "096966ae",
   "metadata": {},
   "outputs": [
    {
     "name": "stdout",
     "output_type": "stream",
     "text": [
      "38\n",
      "[(1810, 29), (1719, 2), (1663, 2), (1824, 2), (1789, 2), (1819, 1)]\n",
      "1810\n"
     ]
    }
   ],
   "source": [
    "second_start_year = []\n",
    "for i in range (len(second_all_contender.tolist())):\n",
    "    (master_seg16, sample_seg16) = second_all_contender[i][0:9], second_all_contender[i][10:20]\n",
    "    #print(f'{i} : {master_seg16, sample_seg16}')\n",
    "    second_start_year.append(df16.first_valid_index() + samples16[0].index(master_seg16[0]) - samples16[1].index(sample_seg16[0]))\n",
    "print(len(second_start_year))\n",
    "print(Counter(second_start_year).most_common(20))\n",
    "second_final_counter = Counter(second_start_year)\n",
    "print(second_final_counter.most_common(1)[0][0])"
   ]
  },
  {
   "cell_type": "code",
   "execution_count": 774,
   "id": "8e44ca5d",
   "metadata": {},
   "outputs": [
    {
     "data": {
      "image/png": "[encoded data removed]",
      "text/plain": [
       "<Figure size 432x288 with 1 Axes>"
      ]
     },
     "metadata": {},
     "output_type": "display_data"
    }
   ],
   "source": [
    "# Get the Keys and store them in a list\n",
    "labels = list(final_counter.keys())\n",
    "\n",
    "# Get the Values and store them in a list\n",
    "values = list(final_counter.values())\n",
    "plt.pie(values, labels=labels, colors=sns.color_palette('Set2'))\n",
    "plt.show()"
   ]
  },
  {
   "cell_type": "code",
   "execution_count": 775,
   "id": "db8880e7",
   "metadata": {},
   "outputs": [
    {
     "data": {
      "image/png": "[encoded data removed]",
      "text/plain": [
       "<Figure size 432x288 with 1 Axes>"
      ]
     },
     "metadata": {},
     "output_type": "display_data"
    }
   ],
   "source": [
    "# Get the Keys and store them in a list\n",
    "labels = list(second_final_counter.keys())\n",
    "\n",
    "# Get the Values and store them in a list\n",
    "values = list(second_final_counter.values())\n",
    "plt.pie(values, labels=labels, colors=sns.color_palette('Set2'))\n",
    "plt.show()"
   ]
  },
  {
   "cell_type": "code",
   "execution_count": 831,
   "id": "359f0e79",
   "metadata": {},
   "outputs": [
    {
     "name": "stdout",
     "output_type": "stream",
     "text": [
      "[(1810, 29), (1719, 2), (1663, 2), (1824, 2), (1789, 2), (1819, 1)]\n"
     ]
    },
    {
     "data": {
      "text/plain": [
       "<BarContainer object of 6 artists>"
      ]
     },
     "execution_count": 831,
     "metadata": {},
     "output_type": "execute_result"
    },
    {
     "data": {
      "image/png": "[encoded data removed]",
      "text/plain": [
       "<Figure size 432x288 with 1 Axes>"
      ]
     },
     "metadata": {
      "needs_background": "light"
     },
     "output_type": "display_data"
    }
   ],
   "source": [
    "# Get the Keys and store them in a list\n",
    "print(second_final_counter.most_common())\n",
    "labels = list([second_final_counter.most_common()[item][0] for item in range(len(second_final_counter.most_common()))])\n",
    "labels = [str(label) for label in labels]\n",
    "# Get the Values and store them in a list\n",
    "values = list([second_final_counter.most_common()[item][1] for item in range(len(second_final_counter.most_common()))])\n",
    "plt.bar(labels, values)"
   ]
  },
  {
   "cell_type": "code",
   "execution_count": 766,
   "id": "24d1920e",
   "metadata": {},
   "outputs": [
    {
     "data": {
      "text/plain": [
       "master_chronology    1630\n",
       "SLC01A               1812\n",
       "dtype: int64"
      ]
     },
     "execution_count": 766,
     "metadata": {},
     "output_type": "execute_result"
    }
   ],
   "source": [
    "df15.apply(pd.Series.first_valid_index)"
   ]
  },
  {
   "cell_type": "code",
   "execution_count": 767,
   "id": "4bcecf38",
   "metadata": {},
   "outputs": [
    {
     "data": {
      "text/plain": [
       "master_chronology    1630\n",
       "SLC09A               1810\n",
       "dtype: int64"
      ]
     },
     "execution_count": 767,
     "metadata": {},
     "output_type": "execute_result"
    }
   ],
   "source": [
    "df16.apply(pd.Series.first_valid_index)"
   ]
  },
  {
   "cell_type": "code",
   "execution_count": null,
   "id": "8cc37939",
   "metadata": {},
   "outputs": [],
   "source": []
  }
 ],
 "metadata": {
  "kernelspec": {
   "display_name": "Python 3 (ipykernel)",
   "language": "python",
   "name": "python3"
  },
  "language_info": {
   "codemirror_mode": {
    "name": "ipython",
    "version": 3
   },
   "file_extension": ".py",
   "mimetype": "text/x-python",
   "name": "python",
   "nbconvert_exporter": "python",
   "pygments_lexer": "ipython3",
   "version": "3.9.12"
  }
 },
 "nbformat": 4,
 "nbformat_minor": 5
}
